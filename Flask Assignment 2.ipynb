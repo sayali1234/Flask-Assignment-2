{
 "cells": [
  {
   "cell_type": "code",
   "execution_count": null,
   "id": "70b82a80-9a8e-476a-9b7c-c84b8e698330",
   "metadata": {},
   "outputs": [],
   "source": [
    "Q1) Explain GET and POST methods.\n",
    "Ans:GET and POST are two of the most commonly used HTTP methods used to communicate between a client (usually a web browser) and a server.\n",
    "    GET method: GET is a method used to retrieve data from a web server. When a user types a URL into a browser or clicks on a link, the browser sends a GET\n",
    "    request to the server. The server then sends back a response containing the requested data. GET requests are typically used to retrieve web pages, images, and\n",
    "    other static content. GET requests can also include query parameters in the URL, which are used to filter or modify the data being requested.\n",
    "    POST method: POST is a method used to submit data to a web server. When a user submits a form on a website, the browser sends a POST request to the server. \n",
    "    The data from the form is included in the body of the request. The server then processes the data and sends back a response. POST requests are typically used\n",
    "    to submit form data, such as user input or data that needs to be stored on the server.\n",
    "    The main difference between GET and POST requests is that GET requests are idempotent, meaning that multiple identical requests will produce the same result.\n",
    "    GET requests are also considered safe, as they don't modify any data on the server. On the other hand, POST requests can modify data on the server, and they\n",
    "    are not idempotent. This means that multiple identical POST requests may result in different outcomes."
   ]
  },
  {
   "cell_type": "code",
   "execution_count": null,
   "id": "246e3ae8-49c5-4e6d-82d8-4721b7f4b287",
   "metadata": {},
   "outputs": [],
   "source": [
    "Q2) Why is request used in Flask?\n",
    "Ans:In Flask, request is a built-in object that represents the client request sent to a Flask application. It contains all the data submitted with the request, \n",
    "    such as form data, query parameters, and headers.\n",
    "    The request object is used in Flask to handle incoming client requests and retrieve data from the request. Here are a few use cases where the request object \n",
    "    is commonly used in Flask:\n",
    "    1)Retrieving form data: When a user submits a form on a Flask application, the form data is sent as part of the request. The request.form object allows you to\n",
    "    retrieve this data as a dictionary. For example, request.form['username'] would return the value of the \"username\" field in the submitted form.\n",
    "    2)Query parameters: When a user makes a GET request to a Flask application, any query parameters included in the URL are sent as part of the request. The \n",
    "    request.args object allows you to retrieve these parameters as a dictionary. For example, request.args['page'] would return the value of the \"page\" parameter \n",
    "    in the URL.\n",
    "    3)File uploads: When a user uploads a file to a Flask application, the file data is sent as part of the request. The request.files object allows you to \n",
    "    retrieve the uploaded file as a FileStorage object, which you can then save to disk or process as needed.\n",
    "    Overall, the request object is a critical component of a Flask application, allowing you to retrieve data from client requests and handle user input."
   ]
  },
  {
   "cell_type": "code",
   "execution_count": null,
   "id": "b563f11b-febb-48ca-89ef-41012a426b59",
   "metadata": {},
   "outputs": [],
   "source": [
    "Q3) Why is redirect() used in Flask?\n",
    "Ans:In Flask, redirect() is a function that allows you to redirect the user to a different URL in the application. It's commonly used in situations where you need\n",
    "    to redirect the user after they perform an action, such as submitting a form.\n",
    "    Here are a few use cases where the redirect() function is commonly used in Flask:\n",
    "    1)Form submissions: When a user submits a form in a Flask application, the form data is typically processed by the server and then the user is redirected to a\n",
    "    different page. For example, if a user submits a form to create a new post, the server might process the form data and then redirect the user to the page that \n",
    "    displays the newly created post.\n",
    "    2)Authentication: When a user logs in to a Flask application, they're often redirected to a different page after their credentials are authenticated.\n",
    "    Similarly, when a user logs out, they might be redirected to the login page.\n",
    "    3)Dynamic URLs: In some cases, you might want to generate a URL dynamically based on some user input or other data. For example, if you have a search page that\n",
    "    allows users to search for products, you might generate a URL that includes the search query and then redirect the user to a page that displays the search \n",
    "    results.\n",
    "    Overall, the redirect() function is a powerful tool for controlling the user's flow through a Flask application and providing a smooth user experience."
   ]
  },
  {
   "cell_type": "code",
   "execution_count": null,
   "id": "81b53e16-c672-432b-bb39-68d1f63a3404",
   "metadata": {},
   "outputs": [],
   "source": [
    "Q4) What are templates in Flask? Why is the render_template() function used?\n",
    "Ans:Templates in Flask are files that define the structure and content of dynamic HTML pages in a Flask application. They allow you to separate the presentation\n",
    "    (HTML, CSS, and JavaScript) from the application logic (Python code), which makes it easier to maintain and update your application.\n",
    "    In Flask, the most common way to use templates is to use the render_template() function, which is provided by the Flask render_template module. This function\n",
    "    allows you to render a template and pass variables to it, which can be used to customize the content of the page.\n",
    "    Overall, templates and the render_template() function are essential tools for building dynamic web pages in Flask. They allow you to create modular, reusable\n",
    "    HTML components and customize the content of your pages based on dynamic data."
   ]
  },
  {
   "cell_type": "code",
   "execution_count": null,
   "id": "06ed6606-e2c7-439d-b89c-ae0563b5e81a",
   "metadata": {},
   "outputs": [],
   "source": [
    "Q5) Create a simple API. Use Postman to test it. Attach the screenshot of the output in the Jupyter Notebook.\n",
    "Ans:Here's an example code snippet that demonstrates how to create a simple API using Flask:\n",
    "\n",
    "# Using flask to make an api\n",
    "# import necessary libraries and functions\n",
    "from flask import Flask, jsonify,request\n",
    "  \n",
    "# creating a Flask app\n",
    "app = Flask(__name__)\n",
    "  \n",
    "\n",
    "# A simple endpoint that returns a html response\n",
    "@app.route('/', methods = ['GET','POST'])\n",
    "def root():\n",
    "    if(request.method == 'GET'):\n",
    "  \n",
    "        data = \"hello world\"\n",
    "        return f\"<h1>{data}</h1>\"\n",
    "  \n",
    "  \n",
    "\n",
    "# A endpoint that returns a json response\n",
    "@app.route('/home/<int:num>', methods = ['GET'])\n",
    "def square(num):\n",
    "  \n",
    "    return jsonify({'data': num**2})\n",
    "  \n",
    "  \n",
    "# driver function\n",
    "if __name__ == '__main__':\n",
    "  \n",
    "    app.run()"
   ]
  }
 ],
 "metadata": {
  "kernelspec": {
   "display_name": "Python 3 (ipykernel)",
   "language": "python",
   "name": "python3"
  },
  "language_info": {
   "codemirror_mode": {
    "name": "ipython",
    "version": 3
   },
   "file_extension": ".py",
   "mimetype": "text/x-python",
   "name": "python",
   "nbconvert_exporter": "python",
   "pygments_lexer": "ipython3",
   "version": "3.10.8"
  }
 },
 "nbformat": 4,
 "nbformat_minor": 5
}
